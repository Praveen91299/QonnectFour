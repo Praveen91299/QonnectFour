{
 "cells": [
  {
   "cell_type": "markdown",
   "metadata": {},
   "source": [
    "# Qonnect Four  \n",
    "\n",
    "Inspired from the classical game Connect four, Qonnect Four works using the principles of quantum circuits.  \n",
    "\n",
    "_A game by Praveen Jayakumar._  \n",
    "\n",
    "The game format is partially inspired by the Quantum Dojo (https://github.com/amirebrahimi/quantumdojo)  \n",
    "\n",
    "### The game  \n",
    "\n",
    "A random circuit will be initiated over the seven qubits. On each turn, each player either adds a single or two qubit gate or can opt to perform a measurement. On performing measurements, the output is recorded and if 0, Player 1 takes that spot, else it goes to player 2.  \n",
    "\n",
    "The subsequent state of the system will be projected to the measured state and the game continues till one person gets four \"0000\" or \"1111\" in a single row/column/diagonal.  \n",
    "\n",
    "A player can only perform a single measurement in a turn, but if the measurement leads to collapse of any other qubit to classical state ($|0\\rangle$ or $|1\\rangle$) due to entanglement, that too would be considered as a measurement and a coin would be added. The catch is you either get multiple coins in a turn or might end up helping your opponent.  \n",
    "\n",
    "This game requires Qiskit, numpy, pillow (PIL) and matplotlib to be installed.\n",
    "\n",
    "Run the below cell to import the required files."
   ]
  },
  {
   "cell_type": "code",
   "execution_count": 1,
   "metadata": {},
   "outputs": [],
   "source": [
    "from QonnectFour import *"
   ]
  },
  {
   "cell_type": "markdown",
   "metadata": {},
   "source": [
    "Initiate a game by running the below cell.  Player 0 starts by default with a game with 7 columns. Change the seed and other paramters below."
   ]
  },
  {
   "cell_type": "code",
   "execution_count": 2,
   "metadata": {},
   "outputs": [
    {
     "name": "stdout",
     "output_type": "stream",
     "text": [
      "Welcome to Qonnect four! \n",
      " Player 0 to begin. \n",
      " Initial state:\n",
      "Board:\n"
     ]
    },
    {
     "data": {
      "image/png": "[encoded data removed]",
      "text/plain": [
       "<IPython.core.display.Image object>"
      ]
     },
     "metadata": {},
     "output_type": "display_data"
    },
    {
     "name": "stdout",
     "output_type": "stream",
     "text": [
      "Circuit:\n"
     ]
    },
    {
     "data": {
      "image/png": "[encoded data removed]",
      "text/plain": [
       "<IPython.core.display.Image object>"
      ]
     },
     "metadata": {
      "image/png": {
       "unconfined": true
      }
     },
     "output_type": "display_data"
    }
   ],
   "source": [
    "#parameters\n",
    "columns = 7\n",
    "seed = 42\n",
    "depth = 1\n",
    "StartPlayer = 0\n",
    "\n",
    "game = QonnectFour(columns, seed, depth, StartPlayer)"
   ]
  },
  {
   "cell_type": "markdown",
   "metadata": {},
   "source": [
    "The game board by default consists of a 7x7 grid. The first column corresponds to $q_0$, second to $q_1$ and so on.  \n",
    "\n",
    "Now players are required to make moves, each player has two types of moves:  \n",
    "\n",
    "### Adding gates: \n",
    "Player can add a gate on any of the qubits by  \n",
    "Player can add any gates from the list **['h', 'x', 'y', 'z', 's', 't', 'cx', 'ccx']**  \n",
    "Add gates by \n",
    "`game.add_gate('gate', [locations])`  \n",
    "\n",
    "You can't add gates to qubits who's corresponding column is full of coins already.  \n",
    "\n",
    "#### For example\n",
    "\n",
    "` game.add_gate('h', [2])` will perform a Hadamard gate on the $3^{rd}$ column ($q_2$).  \n",
    "\n",
    "` game.add_gate('cx', [3, 5])` will perform a CNOT gate on the $6^{th}$ column ($q_5$) controlled on column $4$ ($q_3$).  \n",
    "\n",
    "` game.add_gate('ccx', [0, 2, 6])` will perform a CCNOT gate (Toffoli) on the $7^{th}$ column ($q_6$) controlled on column $1$ ($q_0$) and column $3$ ($q_2$).\n",
    "    \n",
    "### Performing measurements:  \n",
    "Player can perform measurement on any of the columns (that are not full already). Depending on the result, a coin will be added on to the board. Multiple coins simultaneously is also possible if entangled such that on measurement, it collapses to classical states.  \n",
    "\n",
    "Yellow for Player 0 and Red for Player 1.  \n",
    "\n",
    "A measurement is performed by ` game.perform_measurement(<qubit_number>) `  \n",
    "\n",
    "You can't measure qubits who's corresponding column is full of coins already.  \n",
    "\n",
    "#### For example  \n",
    "\n",
    "` game.perform_measurement(4) ` will perform a measurement on the $5^{th}$ column ($q_4$)  \n",
    "\n",
    "You can use the below cell which contains `copy` which is a copy of the current state of the game to try out moves before committing them to the game. After each move, circuit and game board state is displayed, if you still wish to view the state, use `game.disp_game_state()`"
   ]
  },
  {
   "cell_type": "code",
   "execution_count": 3,
   "metadata": {},
   "outputs": [],
   "source": [
    "copy = game\n",
    "\n",
    "# Try out moves here copy.add_gate() or copy.perform_measurement()\n"
   ]
  },
  {
   "cell_type": "markdown",
   "metadata": {},
   "source": [
    "### Perform moves in the cell below:  \n",
    "After each move, **clear the previous move code** before adding next move. Only gates **['h', 'x', 'y', 'z', 's', 't', 'cx', 'ccx']** allowed and only one gate or measurement per turn."
   ]
  },
  {
   "cell_type": "code",
   "execution_count": 4,
   "metadata": {},
   "outputs": [
    {
     "name": "stdout",
     "output_type": "stream",
     "text": [
      "Board:\n"
     ]
    },
    {
     "data": {
      "image/png": "[encoded data removed]",
      "text/plain": [
       "<IPython.core.display.Image object>"
      ]
     },
     "metadata": {},
     "output_type": "display_data"
    },
    {
     "name": "stdout",
     "output_type": "stream",
     "text": [
      "Circuit:\n"
     ]
    },
    {
     "data": {
      "image/png": "[encoded data removed]",
      "text/plain": [
       "<IPython.core.display.Image object>"
      ]
     },
     "metadata": {
      "image/png": {
       "unconfined": true
      }
     },
     "output_type": "display_data"
    }
   ],
   "source": [
    "game.disp_game_state()\n",
    "\n",
    "# type your moves here. game.add_gate() game.perform_measuremt()\n"
   ]
  }
 ],
 "metadata": {
  "kernelspec": {
   "display_name": "Python 3",
   "language": "python",
   "name": "python3"
  },
  "language_info": {
   "codemirror_mode": {
    "name": "ipython",
    "version": 3
   },
   "file_extension": ".py",
   "mimetype": "text/x-python",
   "name": "python",
   "nbconvert_exporter": "python",
   "pygments_lexer": "ipython3",
   "version": "3.7.6"
  }
 },
 "nbformat": 4,
 "nbformat_minor": 4
}
